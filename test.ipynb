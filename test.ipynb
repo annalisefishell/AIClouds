{
 "cells": [
  {
   "cell_type": "markdown",
   "metadata": {},
   "source": [
    "## Setup"
   ]
  },
  {
   "cell_type": "code",
   "execution_count": null,
   "metadata": {},
   "outputs": [],
   "source": [
    "import numpy as np\n",
    "import xarray as xr\n",
    "import random as rn"
   ]
  },
  {
   "cell_type": "markdown",
   "metadata": {},
   "source": [
    "### Defining constants"
   ]
  },
  {
   "cell_type": "code",
   "execution_count": null,
   "metadata": {},
   "outputs": [],
   "source": [
    "LR = 0.001\n",
    "EPOCH = 100\n",
    "rn.seed(123)"
   ]
  },
  {
   "cell_type": "markdown",
   "metadata": {},
   "source": [
    "### Reading the data"
   ]
  },
  {
   "cell_type": "code",
   "execution_count": null,
   "metadata": {},
   "outputs": [],
   "source": [
    "#read data\n",
    "filepath_data = 'ERA5_tester_data.nc'\n",
    "data = xr.open_dataset(filepath_data)\n",
    "df = data.to_dataframe() # pandas dataframe (dep and ind as columns and scales as keys)\n",
    "# df.time for keys and df['tcc] for variables"
   ]
  },
  {
   "cell_type": "markdown",
   "metadata": {},
   "source": [
    "### Defining importnant variables"
   ]
  },
  {
   "cell_type": "code",
   "execution_count": null,
   "metadata": {},
   "outputs": [],
   "source": [
    "\n",
    "#important variables\n",
    "dependent = 'tcc'\n",
    "independent = ['p71.162', 'p72.162', 'p54.162']\n",
    "scales = ['longitude', 'latitude', 'time'] # these are the keys, dont actually use\n",
    "num_data = df.shape[0]\n",
    "num_var = len(df)"
   ]
  },
  {
   "cell_type": "markdown",
   "metadata": {},
   "source": [
    "### Data cleaning"
   ]
  },
  {
   "cell_type": "code",
   "execution_count": null,
   "metadata": {},
   "outputs": [],
   "source": [
    "\n",
    "#build something for the domain and the grid with pixels\n",
    "# ds.sel(lon=slice(self.lon_b,self.lon_e),lat=slice(self.lat_b,self.lat_e))\n",
    "\n",
    "#test for leap year \n",
    "# DATASET = DATASET_wleap.sel(time=~((DATASET_wleap.time.dt.month==2) & (DATASET_wleap.time.dt.day==29)))\n",
    "\n",
    "#compute means and stds?\n",
    "\n",
    "#standardize - either with ref array or alone\n",
    "\n",
    "#include seasons\n",
    "# if seas :\n",
    "#     cosvect = np.tile([cos(2*i*pi/nbdays)  for i in range(nbdays)],int(INPUT_2D.shape[0]/nbdays)) \n",
    "#     sinvect = np.tile([sin(2*i*pi/nbdays)  for i in range(nbdays)],int(INPUT_2D.shape[0]/nbdays)) \n",
    "\n",
    "#     INPUT_1D.append(cosvect.reshape(INPUT_2D.shape[0],1,1,1))\n",
    "#     INPUT_1D.append(sinvect.reshape(INPUT_2D.shape[0],1,1,1))\n",
    "# hello"
   ]
  },
  {
   "cell_type": "markdown",
   "metadata": {},
   "source": [
    "### Spliting the data"
   ]
  },
  {
   "cell_type": "code",
   "execution_count": null,
   "metadata": {},
   "outputs": [],
   "source": [
    "#split to training and test (80 20?)\n",
    "idx_train = rn.sample(range(num_data), int(0.8*num_data))\n",
    "df_train = [df[k][idx_train,:,:,:] for k in range(num_var)]\n",
    "df_test = [np.delete(df[k],idx_train,axis=0) for k in range(num_var)]\n",
    "\n",
    "#split dataset into dependent and independent variables\n",
    "df_train_dep = df_train[dependent]\n",
    "df_train_ind = df_train[independent]\n",
    "\n",
    "df_test_dep = df_test[dependent]\n",
    "df_test_ind = df_test[independent]\n"
   ]
  },
  {
   "cell_type": "markdown",
   "metadata": {},
   "source": [
    "## Build"
   ]
  },
  {
   "cell_type": "markdown",
   "metadata": {},
   "source": [
    "## Test"
   ]
  }
 ],
 "metadata": {
  "language_info": {
   "name": "python"
  }
 },
 "nbformat": 4,
 "nbformat_minor": 2
}
